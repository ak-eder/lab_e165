{
 "cells": [
  {
   "cell_type": "code",
   "execution_count": 1,
   "metadata": {},
   "outputs": [],
   "source": [
    "from sweep_lib import SorceMeater, VoltCraft\n",
    "import time\n",
    "import pandas as pd\n",
    "import numpy as np\n",
    "import plotly.graph_objects as go"
   ]
  },
  {
   "cell_type": "code",
   "execution_count": 2,
   "metadata": {},
   "outputs": [],
   "source": [
    "results_combined = pd.DataFrame()\n",
    "### Define some funktions\n",
    "def sweep(VC,SM,tpl,setpoints,setpoints_V,pol_changed):\n",
    "    results = pd.DataFrame()\n",
    "    # measure 0V (only measured with the pos polarity)\n",
    "    if not pol_changed:\n",
    "        VC.disable_sorce()\n",
    "        time.sleep(1)\n",
    "        SM.initialise()\n",
    "        time.sleep(tpl)\n",
    "        data = SM.read_buffer()\n",
    "        data['bias'] = 0\n",
    "        data['abs_Read'] = abs(data['Read'])\n",
    "        results = pd.concat([results, data], ignore_index=True, sort=False)\n",
    "    \n",
    "    for i in range(len(setpoints)):\n",
    "        VC.set_voltage(setpoints[i])\n",
    "        VC.enable_sorce()\n",
    "        time.sleep(1)\n",
    "        SM.initialise()\n",
    "        time.sleep(tpl)\n",
    "        data = SM.read_buffer()\n",
    "        data['abs_Read'] = abs(data['Read'])\n",
    "        if pol_changed:\n",
    "            data['bias'] = -setpoints_V[i]\n",
    "        else:\n",
    "            data['bias'] = setpoints_V[i]\n",
    "        results = pd.concat([results, data], ignore_index=True, sort=False)\n",
    "    VC.set_voltage(0)\n",
    "    VC.disable_sorce()\n",
    "    return results\n",
    "\n",
    "def pos_sweep(VC,SM,tpl,setpoints,setpoints_V):\n",
    "    return sweep(VC,SM,tpl,setpoints,setpoints_V,False)\n",
    "\n",
    "def neg_sweep(VC,SM,tpl,setpoints,setpoints_V):\n",
    "    return sweep(VC,SM,tpl,setpoints,setpoints_V,True)\n",
    "\n",
    "def plot(results, sample_folder,sample_name,log_scale:bool = False,write_html:bool=True):\n",
    "    list_V = [0.1,0,-0.1]\n",
    "    a = 0.001\n",
    "    fig = go.Figure()\n",
    "    for i in list_V:\n",
    "        data =results[results['Source']>=i-a][results['Source']<=i+a]\n",
    "        fig.add_trace(go.Scatter(x=data['bias'],y=data['abs_Read'],mode='markers', name = 'V(DS) = '+str(i) + ' V'))\n",
    "\n",
    "    fig.update_layout(\n",
    "        xaxis_title=\"V(GS)\",\n",
    "        yaxis_title=\"I(DS)\",\n",
    "    )\n",
    "    if log_scale:\n",
    "        fig.update_yaxes(type=\"log\")\n",
    "    \n",
    "    if write_html:\n",
    "        fig.write_html(sample_folder + sample_name +'_Bias_vs_Current_lin.html')\n",
    "    return fig"
   ]
  },
  {
   "cell_type": "code",
   "execution_count": 4,
   "metadata": {},
   "outputs": [],
   "source": [
    "# Setup Voltcraft power supply\n",
    "vc = VoltCraft('COM6')\n",
    "vc.disable_sorce()\n",
    "vc.set_voltage(0)"
   ]
  },
  {
   "cell_type": "code",
   "execution_count": 7,
   "metadata": {},
   "outputs": [],
   "source": [
    "## Define Parameters\n",
    "time_per_loop = 1 # time it takes for the keithley to perfom a full loop\n",
    "sample_folder = 'Data\\\\SiO2_90nm\\\\221213\\\\' #path to save the data \n",
    "# Keithley\n",
    "v_start = -0.1  # Start Voltage for Keithley in Volt\n",
    "v_stop = 0.1    # Start Voltage for Keithley in Volt\n",
    "points = 3      # Number of points to measure (keithley)\n",
    "i_limit = 0.1   # current limit used by the keithley in Amps\n",
    "delay = 0.1     # time waited by the Keithley bevore Sampeling\n",
    "# Voltcraft\n",
    "setpoints = [0,0.5,1,1.5,2,2.5,3,3.5,4,4.5,5,5.5,6,6.5,7,7.5,8,8.5,9,9.5,10]        # Voltages set by the Voltcraft in Volt\n",
    "setpoints_V = [0.288,0.737,1.203,1.683,2.17,2.67,3.18,3.68,4.18,4.68,5.18,5.68,6.19,6.7,7.2,7.7,8.20,8.69,9.19,9.69,10.19]# real outputtvoltages by the Voltcraft in Volt \n",
    "polarity_changed = False    # polarity of the Voltcraft (True == nomal, False == reverse=negativ voltages)"
   ]
  },
  {
   "cell_type": "code",
   "execution_count": 8,
   "metadata": {},
   "outputs": [],
   "source": [
    "sm = SorceMeater()\n",
    "sm.use_front_terimals()\n",
    "sm.sens_current()\n",
    "sm.set_sens_range('auto')\n",
    "sm.sorce_voltage()\n",
    "sm.set_sorce_range(max(v_start,v_stop))\n",
    "sm.set_sorce_limit(i_limit)\n",
    "sm.set_wire(two_wire=True)\n",
    "sm.setup_voltage_sweep(v_start,v_stop,points,delay=delay)"
   ]
  },
  {
   "cell_type": "code",
   "execution_count": null,
   "metadata": {},
   "outputs": [],
   "source": [
    "sm.initialise() # testfunktion for time_per_loop parameter"
   ]
  },
  {
   "cell_type": "code",
   "execution_count": 34,
   "metadata": {},
   "outputs": [],
   "source": [
    "sample_name = '6'\n",
    "results_pos = pos_sweep(vc,sm,time_per_loop,setpoints=setpoints,setpoints_V=setpoints_V)"
   ]
  },
  {
   "cell_type": "code",
   "execution_count": 35,
   "metadata": {},
   "outputs": [
    {
     "name": "stderr",
     "output_type": "stream",
     "text": [
      "C:\\Users\\Daniel Matulka\\AppData\\Local\\Temp\\ipykernel_11692\\2792620845.py:44: UserWarning:\n",
      "\n",
      "Boolean Series key will be reindexed to match DataFrame index.\n",
      "\n"
     ]
    },
    {
     "data": {
      "application/vnd.plotly.v1+json": {
       "config": {
        "plotlyServerURL": "https://plot.ly"
       },
       "data": [
        {
         "mode": "markers",
         "name": "V(DS) = 0.1 V",
         "type": "scatter",
         "x": [
          -0.288,
          -0.737,
          -1.203,
          -1.683,
          -2.17,
          -2.67,
          -3.18,
          -3.68,
          -4.18,
          -4.68,
          -5.18,
          -5.68,
          -6.19,
          -6.7,
          -7.2,
          -7.7,
          -8.2,
          -8.69,
          -9.19,
          -9.69,
          -10.19,
          0,
          0.288,
          0.737,
          1.203,
          1.683,
          2.17,
          2.67,
          3.18,
          3.68,
          4.18,
          4.68,
          5.18,
          5.68,
          6.19,
          6.7,
          7.2,
          7.7,
          8.2,
          8.69,
          9.19,
          9.69,
          10.19
         ],
         "y": [
          0.00009931423,
          0.00009958949,
          0.00009988349,
          0.0001001744,
          0.0001004876,
          0.0001008119,
          0.0001011216,
          0.0001014278,
          0.0001017541,
          0.0001020696,
          0.0001023769,
          0.0001026954,
          0.0001029791,
          0.0001032772,
          0.0001035646,
          0.0001038732,
          0.0001041549,
          0.000104467,
          0.0001047601,
          0.0001050886,
          0.0001053785,
          0.00009121383,
          0.00009894367,
          0.00009866016,
          0.00009776733,
          0.00009599531,
          0.0000936893,
          0.00009126293,
          0.00008874167,
          0.00008615056,
          0.00008351706,
          0.00008094599,
          0.00007836631,
          0.00007569368,
          0.00007291485,
          0.00007022921,
          0.00006746937,
          0.00006470925,
          0.00006193663,
          0.0000590549,
          0.00005623701,
          0.00005339743,
          0.00005076831
         ]
        },
        {
         "mode": "markers",
         "name": "V(DS) = 0 V",
         "type": "scatter",
         "x": [
          -0.288,
          -0.737,
          -1.203,
          -1.683,
          -2.17,
          -2.67,
          -3.18,
          -3.68,
          -4.18,
          -4.68,
          -5.18,
          -5.68,
          -6.19,
          -6.7,
          -7.2,
          -7.7,
          -8.2,
          -8.69,
          -9.19,
          -9.69,
          -10.19,
          0,
          0.288,
          0.737,
          1.203,
          1.683,
          2.17,
          2.67,
          3.18,
          3.68,
          4.18,
          4.68,
          5.18,
          5.68,
          6.19,
          6.7,
          7.2,
          7.7,
          8.2,
          8.69,
          9.19,
          9.69,
          10.19
         ],
         "y": [
          1.768449e-8,
          1.676088e-8,
          1.737256e-8,
          1.660546e-8,
          1.650309e-8,
          1.627678e-8,
          1.601395e-8,
          1.626423e-8,
          1.653152e-8,
          1.597806e-8,
          1.596523e-8,
          1.606847e-8,
          1.607015e-8,
          1.663753e-8,
          1.741149e-8,
          1.629362e-8,
          1.616826e-8,
          1.584628e-8,
          1.671812e-8,
          1.569992e-8,
          1.709614e-8,
          0.000007137865,
          1.749491e-8,
          2.630398e-8,
          7.317963e-7,
          0.000002292976,
          0.000004260504,
          0.000006433604,
          0.000008676461,
          0.00001098973,
          0.0000132432,
          0.00001554118,
          0.00001782522,
          0.00002021488,
          0.00002265992,
          0.00002502265,
          0.00002752054,
          0.00002995087,
          0.00003239856,
          0.00003493792,
          0.00003735382,
          0.00003995385,
          0.00004216846
         ]
        },
        {
         "mode": "markers",
         "name": "V(DS) = -0.1 V",
         "type": "scatter",
         "x": [
          -0.288,
          -0.737,
          -1.203,
          -1.683,
          -2.17,
          -2.67,
          -3.18,
          -3.68,
          -4.18,
          -4.68,
          -5.18,
          -5.68,
          -6.19,
          -6.7,
          -7.2,
          -7.7,
          -8.2,
          -8.69,
          -9.19,
          -9.69,
          -10.19,
          0,
          0.288,
          0.737,
          1.203,
          1.683,
          2.17,
          2.67,
          3.18,
          3.68,
          4.18,
          4.68,
          5.18,
          5.68,
          6.19,
          6.7,
          7.2,
          7.7,
          8.2,
          8.69,
          9.19,
          9.69,
          10.19
         ],
         "y": [
          0.00009932845,
          0.00009960055,
          0.00009988575,
          0.0001001848,
          0.0001005052,
          0.0001008199,
          0.0001011318,
          0.0001014417,
          0.0001017655,
          0.0001021001,
          0.0001023944,
          0.0001026871,
          0.0001030091,
          0.0001033028,
          0.0001035907,
          0.0001038831,
          0.0001041838,
          0.0001044758,
          0.000104769,
          0.0001050913,
          0.0001053883,
          0.0001053001,
          0.00009894412,
          0.00009873097,
          0.00009923795,
          0.0001005228,
          0.000102207,
          0.0001041419,
          0.0001060613,
          0.0001080831,
          0.0001100931,
          0.0001120827,
          0.0001140506,
          0.0001161243,
          0.0001181912,
          0.0001203624,
          0.0001224658,
          0.0001245111,
          0.000126699,
          0.000128985,
          0.0001309293,
          0.0001332143,
          0.0001352254
         ]
        }
       ],
       "layout": {
        "template": {
         "data": {
          "bar": [
           {
            "error_x": {
             "color": "#2a3f5f"
            },
            "error_y": {
             "color": "#2a3f5f"
            },
            "marker": {
             "line": {
              "color": "#E5ECF6",
              "width": 0.5
             },
             "pattern": {
              "fillmode": "overlay",
              "size": 10,
              "solidity": 0.2
             }
            },
            "type": "bar"
           }
          ],
          "barpolar": [
           {
            "marker": {
             "line": {
              "color": "#E5ECF6",
              "width": 0.5
             },
             "pattern": {
              "fillmode": "overlay",
              "size": 10,
              "solidity": 0.2
             }
            },
            "type": "barpolar"
           }
          ],
          "carpet": [
           {
            "aaxis": {
             "endlinecolor": "#2a3f5f",
             "gridcolor": "white",
             "linecolor": "white",
             "minorgridcolor": "white",
             "startlinecolor": "#2a3f5f"
            },
            "baxis": {
             "endlinecolor": "#2a3f5f",
             "gridcolor": "white",
             "linecolor": "white",
             "minorgridcolor": "white",
             "startlinecolor": "#2a3f5f"
            },
            "type": "carpet"
           }
          ],
          "choropleth": [
           {
            "colorbar": {
             "outlinewidth": 0,
             "ticks": ""
            },
            "type": "choropleth"
           }
          ],
          "contour": [
           {
            "colorbar": {
             "outlinewidth": 0,
             "ticks": ""
            },
            "colorscale": [
             [
              0,
              "#0d0887"
             ],
             [
              0.1111111111111111,
              "#46039f"
             ],
             [
              0.2222222222222222,
              "#7201a8"
             ],
             [
              0.3333333333333333,
              "#9c179e"
             ],
             [
              0.4444444444444444,
              "#bd3786"
             ],
             [
              0.5555555555555556,
              "#d8576b"
             ],
             [
              0.6666666666666666,
              "#ed7953"
             ],
             [
              0.7777777777777778,
              "#fb9f3a"
             ],
             [
              0.8888888888888888,
              "#fdca26"
             ],
             [
              1,
              "#f0f921"
             ]
            ],
            "type": "contour"
           }
          ],
          "contourcarpet": [
           {
            "colorbar": {
             "outlinewidth": 0,
             "ticks": ""
            },
            "type": "contourcarpet"
           }
          ],
          "heatmap": [
           {
            "colorbar": {
             "outlinewidth": 0,
             "ticks": ""
            },
            "colorscale": [
             [
              0,
              "#0d0887"
             ],
             [
              0.1111111111111111,
              "#46039f"
             ],
             [
              0.2222222222222222,
              "#7201a8"
             ],
             [
              0.3333333333333333,
              "#9c179e"
             ],
             [
              0.4444444444444444,
              "#bd3786"
             ],
             [
              0.5555555555555556,
              "#d8576b"
             ],
             [
              0.6666666666666666,
              "#ed7953"
             ],
             [
              0.7777777777777778,
              "#fb9f3a"
             ],
             [
              0.8888888888888888,
              "#fdca26"
             ],
             [
              1,
              "#f0f921"
             ]
            ],
            "type": "heatmap"
           }
          ],
          "heatmapgl": [
           {
            "colorbar": {
             "outlinewidth": 0,
             "ticks": ""
            },
            "colorscale": [
             [
              0,
              "#0d0887"
             ],
             [
              0.1111111111111111,
              "#46039f"
             ],
             [
              0.2222222222222222,
              "#7201a8"
             ],
             [
              0.3333333333333333,
              "#9c179e"
             ],
             [
              0.4444444444444444,
              "#bd3786"
             ],
             [
              0.5555555555555556,
              "#d8576b"
             ],
             [
              0.6666666666666666,
              "#ed7953"
             ],
             [
              0.7777777777777778,
              "#fb9f3a"
             ],
             [
              0.8888888888888888,
              "#fdca26"
             ],
             [
              1,
              "#f0f921"
             ]
            ],
            "type": "heatmapgl"
           }
          ],
          "histogram": [
           {
            "marker": {
             "pattern": {
              "fillmode": "overlay",
              "size": 10,
              "solidity": 0.2
             }
            },
            "type": "histogram"
           }
          ],
          "histogram2d": [
           {
            "colorbar": {
             "outlinewidth": 0,
             "ticks": ""
            },
            "colorscale": [
             [
              0,
              "#0d0887"
             ],
             [
              0.1111111111111111,
              "#46039f"
             ],
             [
              0.2222222222222222,
              "#7201a8"
             ],
             [
              0.3333333333333333,
              "#9c179e"
             ],
             [
              0.4444444444444444,
              "#bd3786"
             ],
             [
              0.5555555555555556,
              "#d8576b"
             ],
             [
              0.6666666666666666,
              "#ed7953"
             ],
             [
              0.7777777777777778,
              "#fb9f3a"
             ],
             [
              0.8888888888888888,
              "#fdca26"
             ],
             [
              1,
              "#f0f921"
             ]
            ],
            "type": "histogram2d"
           }
          ],
          "histogram2dcontour": [
           {
            "colorbar": {
             "outlinewidth": 0,
             "ticks": ""
            },
            "colorscale": [
             [
              0,
              "#0d0887"
             ],
             [
              0.1111111111111111,
              "#46039f"
             ],
             [
              0.2222222222222222,
              "#7201a8"
             ],
             [
              0.3333333333333333,
              "#9c179e"
             ],
             [
              0.4444444444444444,
              "#bd3786"
             ],
             [
              0.5555555555555556,
              "#d8576b"
             ],
             [
              0.6666666666666666,
              "#ed7953"
             ],
             [
              0.7777777777777778,
              "#fb9f3a"
             ],
             [
              0.8888888888888888,
              "#fdca26"
             ],
             [
              1,
              "#f0f921"
             ]
            ],
            "type": "histogram2dcontour"
           }
          ],
          "mesh3d": [
           {
            "colorbar": {
             "outlinewidth": 0,
             "ticks": ""
            },
            "type": "mesh3d"
           }
          ],
          "parcoords": [
           {
            "line": {
             "colorbar": {
              "outlinewidth": 0,
              "ticks": ""
             }
            },
            "type": "parcoords"
           }
          ],
          "pie": [
           {
            "automargin": true,
            "type": "pie"
           }
          ],
          "scatter": [
           {
            "fillpattern": {
             "fillmode": "overlay",
             "size": 10,
             "solidity": 0.2
            },
            "type": "scatter"
           }
          ],
          "scatter3d": [
           {
            "line": {
             "colorbar": {
              "outlinewidth": 0,
              "ticks": ""
             }
            },
            "marker": {
             "colorbar": {
              "outlinewidth": 0,
              "ticks": ""
             }
            },
            "type": "scatter3d"
           }
          ],
          "scattercarpet": [
           {
            "marker": {
             "colorbar": {
              "outlinewidth": 0,
              "ticks": ""
             }
            },
            "type": "scattercarpet"
           }
          ],
          "scattergeo": [
           {
            "marker": {
             "colorbar": {
              "outlinewidth": 0,
              "ticks": ""
             }
            },
            "type": "scattergeo"
           }
          ],
          "scattergl": [
           {
            "marker": {
             "colorbar": {
              "outlinewidth": 0,
              "ticks": ""
             }
            },
            "type": "scattergl"
           }
          ],
          "scattermapbox": [
           {
            "marker": {
             "colorbar": {
              "outlinewidth": 0,
              "ticks": ""
             }
            },
            "type": "scattermapbox"
           }
          ],
          "scatterpolar": [
           {
            "marker": {
             "colorbar": {
              "outlinewidth": 0,
              "ticks": ""
             }
            },
            "type": "scatterpolar"
           }
          ],
          "scatterpolargl": [
           {
            "marker": {
             "colorbar": {
              "outlinewidth": 0,
              "ticks": ""
             }
            },
            "type": "scatterpolargl"
           }
          ],
          "scatterternary": [
           {
            "marker": {
             "colorbar": {
              "outlinewidth": 0,
              "ticks": ""
             }
            },
            "type": "scatterternary"
           }
          ],
          "surface": [
           {
            "colorbar": {
             "outlinewidth": 0,
             "ticks": ""
            },
            "colorscale": [
             [
              0,
              "#0d0887"
             ],
             [
              0.1111111111111111,
              "#46039f"
             ],
             [
              0.2222222222222222,
              "#7201a8"
             ],
             [
              0.3333333333333333,
              "#9c179e"
             ],
             [
              0.4444444444444444,
              "#bd3786"
             ],
             [
              0.5555555555555556,
              "#d8576b"
             ],
             [
              0.6666666666666666,
              "#ed7953"
             ],
             [
              0.7777777777777778,
              "#fb9f3a"
             ],
             [
              0.8888888888888888,
              "#fdca26"
             ],
             [
              1,
              "#f0f921"
             ]
            ],
            "type": "surface"
           }
          ],
          "table": [
           {
            "cells": {
             "fill": {
              "color": "#EBF0F8"
             },
             "line": {
              "color": "white"
             }
            },
            "header": {
             "fill": {
              "color": "#C8D4E3"
             },
             "line": {
              "color": "white"
             }
            },
            "type": "table"
           }
          ]
         },
         "layout": {
          "annotationdefaults": {
           "arrowcolor": "#2a3f5f",
           "arrowhead": 0,
           "arrowwidth": 1
          },
          "autotypenumbers": "strict",
          "coloraxis": {
           "colorbar": {
            "outlinewidth": 0,
            "ticks": ""
           }
          },
          "colorscale": {
           "diverging": [
            [
             0,
             "#8e0152"
            ],
            [
             0.1,
             "#c51b7d"
            ],
            [
             0.2,
             "#de77ae"
            ],
            [
             0.3,
             "#f1b6da"
            ],
            [
             0.4,
             "#fde0ef"
            ],
            [
             0.5,
             "#f7f7f7"
            ],
            [
             0.6,
             "#e6f5d0"
            ],
            [
             0.7,
             "#b8e186"
            ],
            [
             0.8,
             "#7fbc41"
            ],
            [
             0.9,
             "#4d9221"
            ],
            [
             1,
             "#276419"
            ]
           ],
           "sequential": [
            [
             0,
             "#0d0887"
            ],
            [
             0.1111111111111111,
             "#46039f"
            ],
            [
             0.2222222222222222,
             "#7201a8"
            ],
            [
             0.3333333333333333,
             "#9c179e"
            ],
            [
             0.4444444444444444,
             "#bd3786"
            ],
            [
             0.5555555555555556,
             "#d8576b"
            ],
            [
             0.6666666666666666,
             "#ed7953"
            ],
            [
             0.7777777777777778,
             "#fb9f3a"
            ],
            [
             0.8888888888888888,
             "#fdca26"
            ],
            [
             1,
             "#f0f921"
            ]
           ],
           "sequentialminus": [
            [
             0,
             "#0d0887"
            ],
            [
             0.1111111111111111,
             "#46039f"
            ],
            [
             0.2222222222222222,
             "#7201a8"
            ],
            [
             0.3333333333333333,
             "#9c179e"
            ],
            [
             0.4444444444444444,
             "#bd3786"
            ],
            [
             0.5555555555555556,
             "#d8576b"
            ],
            [
             0.6666666666666666,
             "#ed7953"
            ],
            [
             0.7777777777777778,
             "#fb9f3a"
            ],
            [
             0.8888888888888888,
             "#fdca26"
            ],
            [
             1,
             "#f0f921"
            ]
           ]
          },
          "colorway": [
           "#636efa",
           "#EF553B",
           "#00cc96",
           "#ab63fa",
           "#FFA15A",
           "#19d3f3",
           "#FF6692",
           "#B6E880",
           "#FF97FF",
           "#FECB52"
          ],
          "font": {
           "color": "#2a3f5f"
          },
          "geo": {
           "bgcolor": "white",
           "lakecolor": "white",
           "landcolor": "#E5ECF6",
           "showlakes": true,
           "showland": true,
           "subunitcolor": "white"
          },
          "hoverlabel": {
           "align": "left"
          },
          "hovermode": "closest",
          "mapbox": {
           "style": "light"
          },
          "paper_bgcolor": "white",
          "plot_bgcolor": "#E5ECF6",
          "polar": {
           "angularaxis": {
            "gridcolor": "white",
            "linecolor": "white",
            "ticks": ""
           },
           "bgcolor": "#E5ECF6",
           "radialaxis": {
            "gridcolor": "white",
            "linecolor": "white",
            "ticks": ""
           }
          },
          "scene": {
           "xaxis": {
            "backgroundcolor": "#E5ECF6",
            "gridcolor": "white",
            "gridwidth": 2,
            "linecolor": "white",
            "showbackground": true,
            "ticks": "",
            "zerolinecolor": "white"
           },
           "yaxis": {
            "backgroundcolor": "#E5ECF6",
            "gridcolor": "white",
            "gridwidth": 2,
            "linecolor": "white",
            "showbackground": true,
            "ticks": "",
            "zerolinecolor": "white"
           },
           "zaxis": {
            "backgroundcolor": "#E5ECF6",
            "gridcolor": "white",
            "gridwidth": 2,
            "linecolor": "white",
            "showbackground": true,
            "ticks": "",
            "zerolinecolor": "white"
           }
          },
          "shapedefaults": {
           "line": {
            "color": "#2a3f5f"
           }
          },
          "ternary": {
           "aaxis": {
            "gridcolor": "white",
            "linecolor": "white",
            "ticks": ""
           },
           "baxis": {
            "gridcolor": "white",
            "linecolor": "white",
            "ticks": ""
           },
           "bgcolor": "#E5ECF6",
           "caxis": {
            "gridcolor": "white",
            "linecolor": "white",
            "ticks": ""
           }
          },
          "title": {
           "x": 0.05
          },
          "xaxis": {
           "automargin": true,
           "gridcolor": "white",
           "linecolor": "white",
           "ticks": "",
           "title": {
            "standoff": 15
           },
           "zerolinecolor": "white",
           "zerolinewidth": 2
          },
          "yaxis": {
           "automargin": true,
           "gridcolor": "white",
           "linecolor": "white",
           "ticks": "",
           "title": {
            "standoff": 15
           },
           "zerolinecolor": "white",
           "zerolinewidth": 2
          }
         }
        },
        "xaxis": {
         "title": {
          "text": "V(GS)"
         }
        },
        "yaxis": {
         "title": {
          "text": "I(DS)"
         }
        }
       }
      }
     },
     "metadata": {},
     "output_type": "display_data"
    }
   ],
   "source": [
    "results_neg = neg_sweep(vc,sm,time_per_loop,setpoints=setpoints,setpoints_V=setpoints_V)\n",
    "results = pd.concat([results_neg, results_pos], ignore_index=True, sort=False)\n",
    "fig = plot(results=results,sample_folder=sample_folder,sample_name=sample_name)\n",
    "fig.show()\n",
    "results.to_csv(sample_folder + sample_name +'.csv')\n",
    "results['Name'] = sample_name\n",
    "results_combined = pd.concat([results_combined, results], ignore_index=True, sort=False)"
   ]
  },
  {
   "cell_type": "code",
   "execution_count": 38,
   "metadata": {},
   "outputs": [
    {
     "data": {
      "application/vnd.plotly.v1+json": {
       "config": {
        "plotlyServerURL": "https://plot.ly"
       },
       "data": [
        {
         "mode": "markers",
         "name": "Sample: 2",
         "type": "scatter",
         "x": [
          -0.288,
          -0.737,
          -1.203,
          -1.683,
          -2.17,
          -2.67,
          -3.18,
          -3.68,
          -4.18,
          -4.68,
          -5.18,
          -5.68,
          -6.19,
          -6.7,
          -7.2,
          -7.7,
          -8.2,
          -8.69,
          -9.19,
          -9.69,
          -10.19,
          0,
          0.288,
          0.737,
          1.203,
          1.683,
          2.17,
          2.67,
          3.18,
          3.68,
          4.18,
          4.68,
          5.18,
          5.68,
          6.19,
          6.7,
          7.2,
          7.7,
          8.2,
          8.69,
          9.19,
          9.69,
          10.19
         ],
         "y": [
          0.0001953686,
          0.0001957777,
          0.0001962204,
          0.0001966957,
          0.0001971825,
          0.0001976621,
          0.0001981342,
          0.0001986088,
          0.0001990791,
          0.0001995551,
          0.0002000342,
          0.000200514,
          0.0002009923,
          0.0002014655,
          0.0002019396,
          0.0002024001,
          0.0002028741,
          0.0002033436,
          0.0002037997,
          0.0002042733,
          0.0002047379,
          0.0001943222,
          0.0001947177,
          0.0001943498,
          0.0001949423,
          0.0001967411,
          0.0001989475,
          0.0002013266,
          0.0002038279,
          0.0002060248,
          0.0002087699,
          0.0002113274,
          0.000214184,
          0.0002168136,
          0.0002195958,
          0.0002226665,
          0.0002259134,
          0.0002287965,
          0.0002313266,
          0.0002343129,
          0.0002374844,
          0.0002403113,
          0.0002438853
         ]
        },
        {
         "mode": "markers",
         "name": "Sample: 3",
         "type": "scatter",
         "x": [
          -0.288,
          -0.737,
          -1.203,
          -1.683,
          -2.17,
          -2.67,
          -3.18,
          -3.68,
          -4.18,
          -4.68,
          -5.18,
          -5.68,
          -6.19,
          -6.7,
          -7.2,
          -7.7,
          -8.2,
          -8.69,
          -9.19,
          -9.69,
          -10.19,
          0,
          0.288,
          0.737,
          1.203,
          1.683,
          2.17,
          2.67,
          3.18,
          3.68,
          4.18,
          4.68,
          5.18,
          5.68,
          6.19,
          6.7,
          7.2,
          7.7,
          8.2,
          8.69,
          9.19,
          9.69,
          10.19
         ],
         "y": [
          0.0001140633,
          0.000114409,
          0.0001148048,
          0.0001152165,
          0.0001156501,
          0.0001160754,
          0.0001164947,
          0.0001169265,
          0.0001173558,
          0.0001177805,
          0.0001182027,
          0.0001186253,
          0.000119047,
          0.0001194724,
          0.0001198917,
          0.0001203071,
          0.0001207095,
          0.0001211289,
          0.0001215297,
          0.0001219358,
          0.0001223401,
          0.0001197356,
          0.000113463,
          0.0001131966,
          0.000114475,
          0.0001172011,
          0.0001205661,
          0.0001241059,
          0.0001279519,
          0.0001317604,
          0.0001356577,
          0.0001397268,
          0.0001439409,
          0.0001480623,
          0.0001520928,
          0.0001565958,
          0.0001606233,
          0.0001648168,
          0.0001692586,
          0.000173541,
          0.0001780683,
          0.0001821372,
          0.0001865859
         ]
        },
        {
         "mode": "markers",
         "name": "Sample: 4",
         "type": "scatter",
         "x": [
          -0.288,
          -0.737,
          -1.203,
          -1.683,
          -2.17,
          -2.67,
          -3.18,
          -3.68,
          -4.18,
          -4.68,
          -5.18,
          -5.68,
          -6.19,
          -6.7,
          -7.2,
          -7.7,
          -8.2,
          -8.69,
          -9.19,
          -9.69,
          -10.19,
          0,
          0.288,
          0.737,
          1.203,
          1.683,
          2.17,
          2.67,
          3.18,
          3.68,
          4.18,
          4.68,
          5.18,
          5.68,
          6.19,
          6.7,
          7.2,
          7.7,
          8.2,
          8.69,
          9.19,
          9.69,
          10.19
         ],
         "y": [
          0.0001094149,
          0.000109923,
          0.0001105141,
          0.0001110679,
          0.0001116591,
          0.0001122454,
          0.0001128237,
          0.0001134132,
          0.0001140115,
          0.0001145829,
          0.000115164,
          0.0001157576,
          0.0001163026,
          0.0001168695,
          0.0001174183,
          0.000118002,
          0.0001185802,
          0.00011909,
          0.0001196224,
          0.0001201852,
          0.0001207214,
          0.0001083095,
          0.0001086095,
          0.000108204,
          0.0001094803,
          0.0001122328,
          0.0001159343,
          0.0001200402,
          0.0001241698,
          0.0001284701,
          0.0001327393,
          0.0001371707,
          0.0001415787,
          0.0001459413,
          0.000150358,
          0.0001550289,
          0.0001597488,
          0.0001641977,
          0.0001690468,
          0.0001737742,
          0.000178673,
          0.0001835363,
          0.0001883613
         ]
        },
        {
         "mode": "markers",
         "name": "Sample: 5",
         "type": "scatter",
         "x": [
          -0.288,
          -0.737,
          -1.203,
          -1.683,
          -2.17,
          -2.67,
          -3.18,
          -3.68,
          -4.18,
          -4.68,
          -5.18,
          -5.68,
          -6.19,
          -6.7,
          -7.2,
          -7.7,
          -8.2,
          -8.69,
          -9.19,
          -9.69,
          -10.19,
          0,
          0.288,
          0.737,
          1.203,
          1.683,
          2.17,
          2.67,
          3.18,
          3.68,
          4.18,
          4.68,
          5.18,
          5.68,
          6.19,
          6.7,
          7.2,
          7.7,
          8.2,
          8.69,
          9.19,
          9.69,
          10.19
         ],
         "y": [
          0.000112863,
          0.0001133035,
          0.0001137076,
          0.0001141237,
          0.0001145758,
          0.0001150294,
          0.0001154828,
          0.0001159336,
          0.0001163846,
          0.000116831,
          0.0001172734,
          0.000117722,
          0.0001181646,
          0.0001186118,
          0.0001190496,
          0.0001194942,
          0.0001199324,
          0.0001203938,
          0.0001208074,
          0.0001212088,
          0.0001216436,
          0.0001118834,
          0.0001122962,
          0.000111924,
          0.0001123257,
          0.0001136522,
          0.0001153746,
          0.0001172422,
          0.000119197,
          0.0001211533,
          0.0001232596,
          0.0001252785,
          0.0001273889,
          0.000129447,
          0.0001313618,
          0.000133491,
          0.0001355455,
          0.000137826,
          0.0001397046,
          0.000141643,
          0.0001436806,
          0.0001461141,
          0.0001483458
         ]
        },
        {
         "mode": "markers",
         "name": "Sample: 5a",
         "type": "scatter",
         "x": [
          -0.288,
          -0.737,
          -1.203,
          -1.683,
          -2.17,
          -2.67,
          -3.18,
          -3.68,
          -4.18,
          -4.68,
          -5.18,
          -5.68,
          -6.19,
          -6.7,
          -7.2,
          -7.7,
          -8.2,
          -8.69,
          -9.19,
          -9.69,
          -10.19,
          0,
          0.288,
          0.737,
          1.203,
          1.683,
          2.17,
          2.67,
          3.18,
          3.68,
          4.18,
          4.68,
          5.18,
          5.68,
          6.19,
          6.7,
          7.2,
          7.7,
          8.2,
          8.69,
          9.19,
          9.69,
          10.19
         ],
         "y": [
          0.0000528878,
          0.00005308394,
          0.00005329465,
          0.00005351669,
          0.00005374469,
          0.00005397424,
          0.00005419832,
          0.00005441835,
          0.00005464514,
          0.00005486794,
          0.00005508932,
          0.00005531682,
          0.00005554267,
          0.00005576346,
          0.00005598366,
          0.00005620288,
          0.00005642005,
          0.00005663731,
          0.00005685046,
          0.0000570681,
          0.000057277,
          0.00005176029,
          0.00005258617,
          0.00005239714,
          0.00005217433,
          0.00005196595,
          0.0000517577,
          0.00005152784,
          0.00005130308,
          0.00005107676,
          0.00005084713,
          0.00005061966,
          0.00005039612,
          0.00005016703,
          0.00004993197,
          0.000049696,
          0.00004946343,
          0.00004921922,
          0.0000489755,
          0.00004873936,
          0.00004848682,
          0.00004823825,
          0.00004798685
         ]
        },
        {
         "mode": "markers",
         "name": "Sample: 5b",
         "type": "scatter",
         "x": [
          -0.288,
          -0.737,
          -1.203,
          -1.683,
          -2.17,
          -2.67,
          -3.18,
          -3.68,
          -4.18,
          -4.68,
          -5.18,
          -5.68,
          -6.19,
          -6.7,
          -7.2,
          -7.7,
          -8.2,
          -8.69,
          -9.19,
          -9.69,
          -10.19,
          0,
          0.288,
          0.737,
          1.203,
          1.683,
          2.17,
          2.67,
          3.18,
          3.68,
          4.18,
          4.68,
          5.18,
          5.68,
          6.19,
          6.7,
          7.2,
          7.7,
          8.2,
          8.69,
          9.19,
          9.69,
          10.19
         ],
         "y": [
          0.00005288211,
          0.00005308089,
          0.00005329384,
          0.00005351753,
          0.00005374862,
          0.00005397591,
          0.00005420481,
          0.00005443314,
          0.00005465878,
          0.00005488422,
          0.00005510778,
          0.00005533278,
          0.00005555696,
          0.00005577847,
          0.00005600164,
          0.00005622087,
          0.00005644306,
          0.00005666063,
          0.00005687278,
          0.0000570856,
          0.00005729777,
          0.00005155842,
          0.00005256318,
          0.00005236693,
          0.0000521542,
          0.00005193718,
          0.00005172283,
          0.00005150245,
          0.00005127998,
          0.00005105967,
          0.00005083283,
          0.00005060716,
          0.00005038763,
          0.00005015815,
          0.00004992666,
          0.00004969016,
          0.00004945101,
          0.00004921531,
          0.00004897352,
          0.00004873015,
          0.00004848672,
          0.00004823304,
          0.00004798231
         ]
        },
        {
         "mode": "markers",
         "name": "Sample: 6",
         "type": "scatter",
         "x": [
          -0.288,
          -0.737,
          -1.203,
          -1.683,
          -2.17,
          -2.67,
          -3.18,
          -3.68,
          -4.18,
          -4.68,
          -5.18,
          -5.68,
          -6.19,
          -6.7,
          -7.2,
          -7.7,
          -8.2,
          -8.69,
          -9.19,
          -9.69,
          -10.19,
          0,
          0.288,
          0.737,
          1.203,
          1.683,
          2.17,
          2.67,
          3.18,
          3.68,
          4.18,
          4.68,
          5.18,
          5.68,
          6.19,
          6.7,
          7.2,
          7.7,
          8.2,
          8.69,
          9.19,
          9.69,
          10.19
         ],
         "y": [
          0.00009932845,
          0.00009960055,
          0.00009988575,
          0.0001001848,
          0.0001005052,
          0.0001008199,
          0.0001011318,
          0.0001014417,
          0.0001017655,
          0.0001021001,
          0.0001023944,
          0.0001026871,
          0.0001030091,
          0.0001033028,
          0.0001035907,
          0.0001038831,
          0.0001041838,
          0.0001044758,
          0.000104769,
          0.0001050913,
          0.0001053883,
          0.0001053001,
          0.00009894412,
          0.00009873097,
          0.00009923795,
          0.0001005228,
          0.000102207,
          0.0001041419,
          0.0001060613,
          0.0001080831,
          0.0001100931,
          0.0001120827,
          0.0001140506,
          0.0001161243,
          0.0001181912,
          0.0001203624,
          0.0001224658,
          0.0001245111,
          0.000126699,
          0.000128985,
          0.0001309293,
          0.0001332143,
          0.0001352254
         ]
        }
       ],
       "layout": {
        "template": {
         "data": {
          "bar": [
           {
            "error_x": {
             "color": "#2a3f5f"
            },
            "error_y": {
             "color": "#2a3f5f"
            },
            "marker": {
             "line": {
              "color": "#E5ECF6",
              "width": 0.5
             },
             "pattern": {
              "fillmode": "overlay",
              "size": 10,
              "solidity": 0.2
             }
            },
            "type": "bar"
           }
          ],
          "barpolar": [
           {
            "marker": {
             "line": {
              "color": "#E5ECF6",
              "width": 0.5
             },
             "pattern": {
              "fillmode": "overlay",
              "size": 10,
              "solidity": 0.2
             }
            },
            "type": "barpolar"
           }
          ],
          "carpet": [
           {
            "aaxis": {
             "endlinecolor": "#2a3f5f",
             "gridcolor": "white",
             "linecolor": "white",
             "minorgridcolor": "white",
             "startlinecolor": "#2a3f5f"
            },
            "baxis": {
             "endlinecolor": "#2a3f5f",
             "gridcolor": "white",
             "linecolor": "white",
             "minorgridcolor": "white",
             "startlinecolor": "#2a3f5f"
            },
            "type": "carpet"
           }
          ],
          "choropleth": [
           {
            "colorbar": {
             "outlinewidth": 0,
             "ticks": ""
            },
            "type": "choropleth"
           }
          ],
          "contour": [
           {
            "colorbar": {
             "outlinewidth": 0,
             "ticks": ""
            },
            "colorscale": [
             [
              0,
              "#0d0887"
             ],
             [
              0.1111111111111111,
              "#46039f"
             ],
             [
              0.2222222222222222,
              "#7201a8"
             ],
             [
              0.3333333333333333,
              "#9c179e"
             ],
             [
              0.4444444444444444,
              "#bd3786"
             ],
             [
              0.5555555555555556,
              "#d8576b"
             ],
             [
              0.6666666666666666,
              "#ed7953"
             ],
             [
              0.7777777777777778,
              "#fb9f3a"
             ],
             [
              0.8888888888888888,
              "#fdca26"
             ],
             [
              1,
              "#f0f921"
             ]
            ],
            "type": "contour"
           }
          ],
          "contourcarpet": [
           {
            "colorbar": {
             "outlinewidth": 0,
             "ticks": ""
            },
            "type": "contourcarpet"
           }
          ],
          "heatmap": [
           {
            "colorbar": {
             "outlinewidth": 0,
             "ticks": ""
            },
            "colorscale": [
             [
              0,
              "#0d0887"
             ],
             [
              0.1111111111111111,
              "#46039f"
             ],
             [
              0.2222222222222222,
              "#7201a8"
             ],
             [
              0.3333333333333333,
              "#9c179e"
             ],
             [
              0.4444444444444444,
              "#bd3786"
             ],
             [
              0.5555555555555556,
              "#d8576b"
             ],
             [
              0.6666666666666666,
              "#ed7953"
             ],
             [
              0.7777777777777778,
              "#fb9f3a"
             ],
             [
              0.8888888888888888,
              "#fdca26"
             ],
             [
              1,
              "#f0f921"
             ]
            ],
            "type": "heatmap"
           }
          ],
          "heatmapgl": [
           {
            "colorbar": {
             "outlinewidth": 0,
             "ticks": ""
            },
            "colorscale": [
             [
              0,
              "#0d0887"
             ],
             [
              0.1111111111111111,
              "#46039f"
             ],
             [
              0.2222222222222222,
              "#7201a8"
             ],
             [
              0.3333333333333333,
              "#9c179e"
             ],
             [
              0.4444444444444444,
              "#bd3786"
             ],
             [
              0.5555555555555556,
              "#d8576b"
             ],
             [
              0.6666666666666666,
              "#ed7953"
             ],
             [
              0.7777777777777778,
              "#fb9f3a"
             ],
             [
              0.8888888888888888,
              "#fdca26"
             ],
             [
              1,
              "#f0f921"
             ]
            ],
            "type": "heatmapgl"
           }
          ],
          "histogram": [
           {
            "marker": {
             "pattern": {
              "fillmode": "overlay",
              "size": 10,
              "solidity": 0.2
             }
            },
            "type": "histogram"
           }
          ],
          "histogram2d": [
           {
            "colorbar": {
             "outlinewidth": 0,
             "ticks": ""
            },
            "colorscale": [
             [
              0,
              "#0d0887"
             ],
             [
              0.1111111111111111,
              "#46039f"
             ],
             [
              0.2222222222222222,
              "#7201a8"
             ],
             [
              0.3333333333333333,
              "#9c179e"
             ],
             [
              0.4444444444444444,
              "#bd3786"
             ],
             [
              0.5555555555555556,
              "#d8576b"
             ],
             [
              0.6666666666666666,
              "#ed7953"
             ],
             [
              0.7777777777777778,
              "#fb9f3a"
             ],
             [
              0.8888888888888888,
              "#fdca26"
             ],
             [
              1,
              "#f0f921"
             ]
            ],
            "type": "histogram2d"
           }
          ],
          "histogram2dcontour": [
           {
            "colorbar": {
             "outlinewidth": 0,
             "ticks": ""
            },
            "colorscale": [
             [
              0,
              "#0d0887"
             ],
             [
              0.1111111111111111,
              "#46039f"
             ],
             [
              0.2222222222222222,
              "#7201a8"
             ],
             [
              0.3333333333333333,
              "#9c179e"
             ],
             [
              0.4444444444444444,
              "#bd3786"
             ],
             [
              0.5555555555555556,
              "#d8576b"
             ],
             [
              0.6666666666666666,
              "#ed7953"
             ],
             [
              0.7777777777777778,
              "#fb9f3a"
             ],
             [
              0.8888888888888888,
              "#fdca26"
             ],
             [
              1,
              "#f0f921"
             ]
            ],
            "type": "histogram2dcontour"
           }
          ],
          "mesh3d": [
           {
            "colorbar": {
             "outlinewidth": 0,
             "ticks": ""
            },
            "type": "mesh3d"
           }
          ],
          "parcoords": [
           {
            "line": {
             "colorbar": {
              "outlinewidth": 0,
              "ticks": ""
             }
            },
            "type": "parcoords"
           }
          ],
          "pie": [
           {
            "automargin": true,
            "type": "pie"
           }
          ],
          "scatter": [
           {
            "fillpattern": {
             "fillmode": "overlay",
             "size": 10,
             "solidity": 0.2
            },
            "type": "scatter"
           }
          ],
          "scatter3d": [
           {
            "line": {
             "colorbar": {
              "outlinewidth": 0,
              "ticks": ""
             }
            },
            "marker": {
             "colorbar": {
              "outlinewidth": 0,
              "ticks": ""
             }
            },
            "type": "scatter3d"
           }
          ],
          "scattercarpet": [
           {
            "marker": {
             "colorbar": {
              "outlinewidth": 0,
              "ticks": ""
             }
            },
            "type": "scattercarpet"
           }
          ],
          "scattergeo": [
           {
            "marker": {
             "colorbar": {
              "outlinewidth": 0,
              "ticks": ""
             }
            },
            "type": "scattergeo"
           }
          ],
          "scattergl": [
           {
            "marker": {
             "colorbar": {
              "outlinewidth": 0,
              "ticks": ""
             }
            },
            "type": "scattergl"
           }
          ],
          "scattermapbox": [
           {
            "marker": {
             "colorbar": {
              "outlinewidth": 0,
              "ticks": ""
             }
            },
            "type": "scattermapbox"
           }
          ],
          "scatterpolar": [
           {
            "marker": {
             "colorbar": {
              "outlinewidth": 0,
              "ticks": ""
             }
            },
            "type": "scatterpolar"
           }
          ],
          "scatterpolargl": [
           {
            "marker": {
             "colorbar": {
              "outlinewidth": 0,
              "ticks": ""
             }
            },
            "type": "scatterpolargl"
           }
          ],
          "scatterternary": [
           {
            "marker": {
             "colorbar": {
              "outlinewidth": 0,
              "ticks": ""
             }
            },
            "type": "scatterternary"
           }
          ],
          "surface": [
           {
            "colorbar": {
             "outlinewidth": 0,
             "ticks": ""
            },
            "colorscale": [
             [
              0,
              "#0d0887"
             ],
             [
              0.1111111111111111,
              "#46039f"
             ],
             [
              0.2222222222222222,
              "#7201a8"
             ],
             [
              0.3333333333333333,
              "#9c179e"
             ],
             [
              0.4444444444444444,
              "#bd3786"
             ],
             [
              0.5555555555555556,
              "#d8576b"
             ],
             [
              0.6666666666666666,
              "#ed7953"
             ],
             [
              0.7777777777777778,
              "#fb9f3a"
             ],
             [
              0.8888888888888888,
              "#fdca26"
             ],
             [
              1,
              "#f0f921"
             ]
            ],
            "type": "surface"
           }
          ],
          "table": [
           {
            "cells": {
             "fill": {
              "color": "#EBF0F8"
             },
             "line": {
              "color": "white"
             }
            },
            "header": {
             "fill": {
              "color": "#C8D4E3"
             },
             "line": {
              "color": "white"
             }
            },
            "type": "table"
           }
          ]
         },
         "layout": {
          "annotationdefaults": {
           "arrowcolor": "#2a3f5f",
           "arrowhead": 0,
           "arrowwidth": 1
          },
          "autotypenumbers": "strict",
          "coloraxis": {
           "colorbar": {
            "outlinewidth": 0,
            "ticks": ""
           }
          },
          "colorscale": {
           "diverging": [
            [
             0,
             "#8e0152"
            ],
            [
             0.1,
             "#c51b7d"
            ],
            [
             0.2,
             "#de77ae"
            ],
            [
             0.3,
             "#f1b6da"
            ],
            [
             0.4,
             "#fde0ef"
            ],
            [
             0.5,
             "#f7f7f7"
            ],
            [
             0.6,
             "#e6f5d0"
            ],
            [
             0.7,
             "#b8e186"
            ],
            [
             0.8,
             "#7fbc41"
            ],
            [
             0.9,
             "#4d9221"
            ],
            [
             1,
             "#276419"
            ]
           ],
           "sequential": [
            [
             0,
             "#0d0887"
            ],
            [
             0.1111111111111111,
             "#46039f"
            ],
            [
             0.2222222222222222,
             "#7201a8"
            ],
            [
             0.3333333333333333,
             "#9c179e"
            ],
            [
             0.4444444444444444,
             "#bd3786"
            ],
            [
             0.5555555555555556,
             "#d8576b"
            ],
            [
             0.6666666666666666,
             "#ed7953"
            ],
            [
             0.7777777777777778,
             "#fb9f3a"
            ],
            [
             0.8888888888888888,
             "#fdca26"
            ],
            [
             1,
             "#f0f921"
            ]
           ],
           "sequentialminus": [
            [
             0,
             "#0d0887"
            ],
            [
             0.1111111111111111,
             "#46039f"
            ],
            [
             0.2222222222222222,
             "#7201a8"
            ],
            [
             0.3333333333333333,
             "#9c179e"
            ],
            [
             0.4444444444444444,
             "#bd3786"
            ],
            [
             0.5555555555555556,
             "#d8576b"
            ],
            [
             0.6666666666666666,
             "#ed7953"
            ],
            [
             0.7777777777777778,
             "#fb9f3a"
            ],
            [
             0.8888888888888888,
             "#fdca26"
            ],
            [
             1,
             "#f0f921"
            ]
           ]
          },
          "colorway": [
           "#636efa",
           "#EF553B",
           "#00cc96",
           "#ab63fa",
           "#FFA15A",
           "#19d3f3",
           "#FF6692",
           "#B6E880",
           "#FF97FF",
           "#FECB52"
          ],
          "font": {
           "color": "#2a3f5f"
          },
          "geo": {
           "bgcolor": "white",
           "lakecolor": "white",
           "landcolor": "#E5ECF6",
           "showlakes": true,
           "showland": true,
           "subunitcolor": "white"
          },
          "hoverlabel": {
           "align": "left"
          },
          "hovermode": "closest",
          "mapbox": {
           "style": "light"
          },
          "paper_bgcolor": "white",
          "plot_bgcolor": "#E5ECF6",
          "polar": {
           "angularaxis": {
            "gridcolor": "white",
            "linecolor": "white",
            "ticks": ""
           },
           "bgcolor": "#E5ECF6",
           "radialaxis": {
            "gridcolor": "white",
            "linecolor": "white",
            "ticks": ""
           }
          },
          "scene": {
           "xaxis": {
            "backgroundcolor": "#E5ECF6",
            "gridcolor": "white",
            "gridwidth": 2,
            "linecolor": "white",
            "showbackground": true,
            "ticks": "",
            "zerolinecolor": "white"
           },
           "yaxis": {
            "backgroundcolor": "#E5ECF6",
            "gridcolor": "white",
            "gridwidth": 2,
            "linecolor": "white",
            "showbackground": true,
            "ticks": "",
            "zerolinecolor": "white"
           },
           "zaxis": {
            "backgroundcolor": "#E5ECF6",
            "gridcolor": "white",
            "gridwidth": 2,
            "linecolor": "white",
            "showbackground": true,
            "ticks": "",
            "zerolinecolor": "white"
           }
          },
          "shapedefaults": {
           "line": {
            "color": "#2a3f5f"
           }
          },
          "ternary": {
           "aaxis": {
            "gridcolor": "white",
            "linecolor": "white",
            "ticks": ""
           },
           "baxis": {
            "gridcolor": "white",
            "linecolor": "white",
            "ticks": ""
           },
           "bgcolor": "#E5ECF6",
           "caxis": {
            "gridcolor": "white",
            "linecolor": "white",
            "ticks": ""
           }
          },
          "title": {
           "x": 0.05
          },
          "xaxis": {
           "automargin": true,
           "gridcolor": "white",
           "linecolor": "white",
           "ticks": "",
           "title": {
            "standoff": 15
           },
           "zerolinecolor": "white",
           "zerolinewidth": 2
          },
          "yaxis": {
           "automargin": true,
           "gridcolor": "white",
           "linecolor": "white",
           "ticks": "",
           "title": {
            "standoff": 15
           },
           "zerolinecolor": "white",
           "zerolinewidth": 2
          }
         }
        },
        "title": {
         "text": "V(DS) = -0.1 V"
        },
        "xaxis": {
         "title": {
          "text": "V(GS)"
         }
        },
        "yaxis": {
         "title": {
          "text": "I(DS)"
         }
        }
       }
      }
     },
     "metadata": {},
     "output_type": "display_data"
    }
   ],
   "source": [
    "i = -0.1\n",
    "a = 0.001\n",
    "fig = go.Figure()\n",
    "b = results_combined['Name'].unique()\n",
    "b = b[1:]\n",
    "for c in b:\n",
    "    results = results_combined[results_combined['Name']==c]\n",
    "    data =results[results['Source']>=i-a][results['Source']<=i+a]\n",
    "    fig.add_trace(go.Scatter(x=data['bias'],y=data['abs_Read'],mode='markers', name = 'Sample: '+str(c)))\n",
    "\n",
    "fig.update_layout(\n",
    "    title=\"V(DS) = \" +  str(i) + ' V',\n",
    "    xaxis_title=\"V(GS)\",\n",
    "    yaxis_title=\"I(DS)\"\n",
    ")    \n",
    "fig.show()\n",
    "fig.write_html(sample_folder +str(i) + '_Overview_Bias_vs_Current_lin.html')\n",
    "results_combined.to_csv(sample_folder + 'Overview_Data.csv')"
   ]
  },
  {
   "cell_type": "code",
   "execution_count": 71,
   "metadata": {},
   "outputs": [],
   "source": [
    "\n"
   ]
  },
  {
   "cell_type": "code",
   "execution_count": 64,
   "metadata": {},
   "outputs": [
    {
     "data": {
      "application/vnd.plotly.v1+json": {
       "config": {
        "plotlyServerURL": "https://plot.ly"
       },
       "data": [
        {
         "mode": "markers",
         "name": "Sample: 1",
         "type": "scatter",
         "x": [
          -0.288,
          -0.737,
          -1.203,
          -1.683,
          -2.17,
          -2.67,
          -3.18,
          -3.68,
          -4.18,
          -4.68,
          -5.18,
          -5.68,
          -6.19,
          -6.7,
          -7.2,
          -7.7,
          -8.2,
          -8.69,
          -9.19,
          -9.69,
          -10.19,
          0,
          0.288,
          0.737,
          1.203,
          1.683,
          2.17,
          2.67,
          3.18,
          3.68,
          4.18,
          4.68,
          5.18,
          5.68,
          6.19,
          6.7,
          7.2,
          7.7,
          8.2,
          8.69,
          9.19,
          9.69,
          10.19
         ],
         "y": [
          0.0007756944,
          0.001135519,
          0.001511969,
          0.001905287,
          0.002320146,
          0.00273788,
          0.003161222,
          0.003589898,
          0.004017826,
          0.004455598,
          0.004894767,
          0.005340357,
          0.005791825,
          0.006245235,
          0.006700886,
          0.007158489,
          0.007615817,
          0.00807387,
          0.008540535,
          0.009004879,
          0.009231596,
          0.0005536351,
          0.0002516394,
          0.0002394336,
          0.0007483391,
          0.001268937,
          0.001806919,
          0.00233809,
          0.002863077,
          0.003382201,
          0.003894416,
          0.004401025,
          0.004898911,
          0.005394584,
          0.005883058,
          0.006365486,
          0.006837401,
          0.007310135,
          0.00776419,
          0.008211679,
          0.008647475,
          0.009083957,
          0.009512899
         ]
        },
        {
         "mode": "markers",
         "name": "Sample: 2",
         "type": "scatter",
         "x": [
          -0.288,
          -0.737,
          -1.203,
          -1.683,
          -2.17,
          -2.67,
          -3.18,
          -3.68,
          -4.18,
          -4.68,
          -5.18,
          -5.68,
          -6.19,
          -6.7,
          -7.2,
          -7.7,
          -8.2,
          -8.69,
          -9.19,
          -9.69,
          -10.19,
          0,
          0.288,
          0.737,
          1.203,
          1.683,
          2.17,
          2.67,
          3.18,
          3.68,
          4.18,
          4.68,
          5.18,
          5.68,
          6.19,
          6.7,
          7.2,
          7.7,
          8.2,
          8.69,
          9.19,
          9.69,
          10.19
         ],
         "y": [
          0.0005149835,
          0.0006336908,
          0.0007583618,
          0.0008888643,
          0.001026398,
          0.001165075,
          0.001305446,
          0.001448116,
          0.001591104,
          0.001736116,
          0.001884812,
          0.002032633,
          0.002183594,
          0.002330642,
          0.002475545,
          0.002608674,
          0.002744956,
          0.002883706,
          0.003022218,
          0.003156049,
          0.00328782,
          0.00042913,
          0.000361352,
          0.0002462234,
          0.0001278146,
          0.000006102429,
          0.0001207534,
          0.0002467762,
          0.000372091,
          0.0004970302,
          0.000621148,
          0.0007444145,
          0.00086682,
          0.0009897153,
          0.001112415,
          0.001234439,
          0.001356996,
          0.001476865,
          0.00159056,
          0.001708684,
          0.001830943,
          0.001964885,
          0.00207016
         ]
        },
        {
         "mode": "markers",
         "name": "Sample: 2_2",
         "type": "scatter",
         "x": [
          -0.288,
          -0.737,
          -1.203,
          -1.683,
          -2.17,
          -2.67,
          -3.18,
          -3.68,
          -4.18,
          -4.68,
          -5.18,
          -5.68,
          -6.19,
          -6.7,
          -7.2,
          -7.7,
          -8.2,
          -8.69,
          -9.19,
          -9.69,
          -10.19,
          0,
          0.288,
          0.737,
          1.203,
          1.683,
          2.17,
          2.67,
          3.18,
          3.68,
          4.18,
          4.68,
          5.18,
          5.68,
          6.19,
          6.7,
          7.2,
          7.7,
          8.2,
          8.69,
          9.19,
          9.69,
          10.19
         ],
         "y": [
          0.0005151171,
          0.000634041,
          0.0007591917,
          0.0008913546,
          0.001032047,
          0.001175263,
          0.001321216,
          0.001469439,
          0.001617643,
          0.001768006,
          0.001917797,
          0.002063863,
          0.00220425,
          0.00234431,
          0.002480391,
          0.00261084,
          0.002744276,
          0.002882721,
          0.003016444,
          0.003154749,
          0.003294381,
          0.0004289524,
          0.000361129,
          0.0002459768,
          0.0001277149,
          0.000006150814,
          0.0001205192,
          0.0002464378,
          0.000371335,
          0.0004955435,
          0.0006182945,
          0.000740934,
          0.0008616708,
          0.0009830176,
          0.001104891,
          0.001224438,
          0.00134375,
          0.001462913,
          0.001581061,
          0.001698669,
          0.001821998,
          0.001941496,
          0.002064075
         ]
        },
        {
         "mode": "markers",
         "name": "Sample: 3",
         "type": "scatter",
         "x": [
          -0.288,
          -0.737,
          -1.203,
          -1.683,
          -2.17,
          -2.67,
          -3.18,
          -3.68,
          -4.18,
          -4.68,
          -5.18,
          -5.68,
          -6.19,
          -6.7,
          -7.2,
          -7.7,
          -8.2,
          -8.69,
          -9.19,
          -9.69,
          -10.19,
          0,
          0.288,
          0.737,
          1.203,
          1.683,
          2.17,
          2.67,
          3.18,
          3.68,
          4.18,
          4.68,
          5.18,
          5.68,
          6.19,
          6.7,
          7.2,
          7.7,
          8.2,
          8.69,
          9.19,
          9.69,
          10.19
         ],
         "y": [
          0.0006267388,
          0.0008450652,
          0.001074597,
          0.001315532,
          0.001570256,
          0.001828372,
          0.002091656,
          0.002359926,
          0.002630451,
          0.002931595,
          0.003189185,
          0.003451764,
          0.003702404,
          0.003952853,
          0.004194657,
          0.004448817,
          0.004698152,
          0.004947573,
          0.005193963,
          0.0054435,
          0.005693105,
          0.0004552809,
          0.0003434656,
          0.0001311832,
          0.00008677759,
          0.0003115358,
          0.0005433991,
          0.0007728176,
          0.0009999984,
          0.001225668,
          0.001448729,
          0.001669993,
          0.00188908,
          0.002108909,
          0.002328895,
          0.002545475,
          0.002761914,
          0.002979904,
          0.003194847,
          0.003413497,
          0.003640686,
          0.003867476,
          0.004122613
         ]
        },
        {
         "mode": "markers",
         "name": "Sample: 4",
         "type": "scatter",
         "x": [
          -0.288,
          -0.737,
          -1.203,
          -1.683,
          -2.17,
          -2.67,
          -3.18,
          -3.68,
          -4.18,
          -4.68,
          -5.18,
          -5.68,
          -6.19,
          -6.7,
          -7.2,
          -7.7,
          -8.2,
          -8.69,
          -9.19,
          -9.69,
          -10.19,
          0,
          0.288,
          0.737,
          1.203,
          1.683,
          2.17,
          2.67,
          3.18,
          3.68,
          4.18,
          4.68,
          5.18,
          5.68,
          6.19,
          6.7,
          7.2,
          7.7,
          8.2,
          8.69,
          9.19,
          9.69,
          10.19
         ],
         "y": [
          0.0006879655,
          0.0008503202,
          0.001020971,
          0.001200405,
          0.001390753,
          0.001584553,
          0.001781953,
          0.001981305,
          0.002178653,
          0.002370475,
          0.00255686,
          0.002736619,
          0.00292845,
          0.003111174,
          0.003292119,
          0.003468652,
          0.003647289,
          0.003827101,
          0.004066963,
          0.004201694,
          0.004379396,
          0.0005663811,
          0.0004763903,
          0.0003192414,
          0.0001574974,
          0.000008077959,
          0.0001795335,
          0.0003492076,
          0.0005170609,
          0.0006840265,
          0.00084965,
          0.001014653,
          0.001179652,
          0.001344791,
          0.001510922,
          0.001677423,
          0.00184507,
          0.002015821,
          0.002187836,
          0.00236396,
          0.002551244,
          0.002762215,
          0.002941975
         ]
        },
        {
         "mode": "markers",
         "name": "Sample: 5",
         "type": "scatter",
         "x": [
          -0.288,
          -0.737,
          -1.203,
          -1.683,
          -2.17,
          -2.67,
          -3.18,
          -3.68,
          -4.18,
          -4.68,
          -5.18,
          -5.68,
          -6.19,
          -6.7,
          -7.2,
          -7.7,
          -8.2,
          -8.69,
          -9.19,
          -9.69,
          -10.19,
          0,
          0.288,
          0.737,
          1.203,
          1.683,
          2.17,
          2.67,
          3.18,
          3.68,
          4.18,
          4.68,
          5.18,
          5.68,
          6.19,
          6.7,
          7.2,
          7.7,
          8.2,
          8.69,
          9.19,
          9.69,
          10.19
         ],
         "y": [
          0.001070294,
          0.001228214,
          0.001394401,
          0.001567768,
          0.001750595,
          0.001935141,
          0.002122805,
          0.0023138,
          0.002504898,
          0.002694655,
          0.002880076,
          0.003060206,
          0.003238172,
          0.00341453,
          0.003588132,
          0.003762243,
          0.003934545,
          0.004105608,
          0.004276824,
          0.00444896,
          0.004621641,
          0.0009622,
          0.0008626716,
          0.0007092091,
          0.0005521956,
          0.0003904234,
          0.0002214219,
          0.00005339977,
          0.0001134365,
          0.0002796686,
          0.0004449329,
          0.0006093066,
          0.0007734672,
          0.0009389515,
          0.001106648,
          0.001276064,
          0.001444894,
          0.001622299,
          0.001801382,
          0.001998123,
          0.002204412,
          0.002404815,
          0.002574847
         ]
        },
        {
         "mode": "markers",
         "name": "Sample: 6",
         "type": "scatter",
         "x": [
          -0.288,
          -0.737,
          -1.203,
          -1.683,
          -2.17,
          -2.67,
          -3.18,
          -3.68,
          -4.18,
          -4.68,
          -5.18,
          -5.68,
          -6.19,
          -6.7,
          -7.2,
          -7.7,
          -8.2,
          -8.69,
          -9.19,
          -9.69,
          -10.19,
          0,
          0.288,
          0.737,
          1.203,
          1.683,
          2.17,
          2.67,
          3.18,
          3.68,
          4.18,
          4.68,
          5.18,
          5.68,
          6.19,
          6.7,
          7.2,
          7.7,
          8.2,
          8.69,
          9.19,
          9.69,
          10.19
         ],
         "y": [
          0.001258053,
          0.001404571,
          0.001557643,
          0.001717858,
          0.001886431,
          0.002056262,
          0.002228844,
          0.002403846,
          0.002579886,
          0.002754518,
          0.002923241,
          0.003089777,
          0.003254132,
          0.003416326,
          0.003577896,
          0.003736316,
          0.003894694,
          0.004052592,
          0.004209456,
          0.004366591,
          0.004524079,
          0.001149484,
          0.001066885,
          0.0009247251,
          0.0007790679,
          0.0006293614,
          0.0004727184,
          0.000316991,
          0.0001616019,
          0.000006240189,
          0.0001478017,
          0.0003017216,
          0.0004561159,
          0.0006121233,
          0.0007704845,
          0.0009303192,
          0.001089395,
          0.001249608,
          0.001411099,
          0.001577836,
          0.001748938,
          0.001920345,
          0.002094193
         ]
        },
        {
         "mode": "markers",
         "name": "Sample: 7",
         "type": "scatter",
         "x": [
          -0.288,
          -0.737,
          -1.203,
          -1.683,
          -2.17,
          -2.67,
          -3.18,
          -3.68,
          -4.18,
          -4.68,
          -5.18,
          -5.68,
          -6.19,
          -6.7,
          -7.2,
          -7.7,
          -8.2,
          -8.69,
          -9.19,
          -9.69,
          -10.19,
          0,
          0.288,
          0.737,
          1.203,
          1.683,
          2.17,
          2.67,
          3.18,
          3.68,
          4.18,
          4.68,
          5.18,
          5.68,
          6.19,
          6.7,
          7.2,
          7.7,
          8.2,
          8.69,
          9.19,
          9.69,
          10.19
         ],
         "y": [
          0.0002661526,
          0.0003804395,
          0.0005004532,
          0.0006258882,
          0.0007582363,
          0.0008919029,
          0.001027224,
          0.001164667,
          0.001309592,
          0.001452677,
          0.001593574,
          0.001742763,
          0.001887043,
          0.002025588,
          0.00216168,
          0.002298242,
          0.002431549,
          0.002565201,
          0.002698389,
          0.002830948,
          0.002963089,
          0.000183423,
          0.0001177089,
          0.000006639096,
          0.0001072842,
          0.0002242297,
          0.000345188,
          0.0004645915,
          0.000582449,
          0.0006995086,
          0.0008151515,
          0.000929646,
          0.001043659,
          0.001157664,
          0.001271841,
          0.001386424,
          0.001499534,
          0.001614972,
          0.001732195,
          0.001854189,
          0.001979435,
          0.0021114,
          0.002238182
         ]
        },
        {
         "mode": "markers",
         "name": "Sample: 8",
         "type": "scatter",
         "x": [
          -0.288,
          -0.737,
          -1.203,
          -1.683,
          -2.17,
          -2.67,
          -3.18,
          -3.68,
          -4.18,
          -4.68,
          -5.18,
          -5.68,
          -6.19,
          -6.7,
          -7.2,
          -7.7,
          -8.2,
          -8.69,
          -9.19,
          -9.69,
          -10.19,
          0,
          0.288,
          0.737,
          1.203,
          1.683,
          2.17,
          2.67,
          3.18,
          3.68,
          4.18,
          4.68,
          5.18,
          5.68,
          6.19,
          6.7,
          7.2,
          7.7,
          8.2,
          8.69,
          9.19,
          9.69,
          10.19
         ],
         "y": [
          0.0005682194,
          0.0006217847,
          0.0006779812,
          0.0007370917,
          0.0008007691,
          0.0008654757,
          0.0009353741,
          0.0009994862,
          0.00106858,
          0.00113426,
          0.001180484,
          0.001248393,
          0.001312955,
          0.001370528,
          0.001421803,
          0.001484036,
          0.001541177,
          0.00159836,
          0.001649849,
          0.001719655,
          0.00177742,
          0.0005309049,
          0.0004975378,
          0.0004453836,
          0.0003919674,
          0.0003369986,
          0.0002797548,
          0.0002229123,
          0.0001657904,
          0.0001093301,
          0.00005158413,
          0.000004659998,
          0.00006284354,
          0.0001196448,
          0.000179555,
          0.0002384252,
          0.0002982319,
          0.0003567775,
          0.0004219251,
          0.0004838674,
          0.000545801,
          0.0006097478,
          0.0006795362
         ]
        },
        {
         "mode": "markers",
         "name": "Sample: 8_1",
         "type": "scatter",
         "x": [
          -0.288,
          -0.737,
          -1.203,
          -1.683,
          -2.17,
          -2.67,
          -3.18,
          -3.68,
          -4.18,
          -4.68,
          -5.18,
          -5.68,
          -6.19,
          -6.7,
          -7.2,
          -7.7,
          -8.2,
          -8.69,
          -9.19,
          -9.69,
          -10.19,
          0,
          0.288,
          0.737,
          1.203,
          1.683,
          2.17,
          2.67,
          3.18,
          3.68,
          4.18,
          4.68,
          5.18,
          5.68,
          6.19,
          6.7,
          7.2,
          7.7,
          8.2,
          8.69,
          9.19,
          9.69,
          10.19
         ],
         "y": [
          0.0004664944,
          0.0005441685,
          0.0006258177,
          0.0007114105,
          0.0008066128,
          0.0009066681,
          0.00100821,
          0.001109935,
          0.001210004,
          0.001309033,
          0.001407192,
          0.001503145,
          0.001592199,
          0.001681426,
          0.001770265,
          0.001859368,
          0.001947738,
          0.00203175,
          0.002121058,
          0.002208701,
          0.002289443,
          0.0004117775,
          0.0003643393,
          0.0002892294,
          0.0002121329,
          0.0001328501,
          0.00005038366,
          0.00003127855,
          0.0001124161,
          0.0001931841,
          0.0002736529,
          0.0003542964,
          0.0004355668,
          0.000515469,
          0.0005986444,
          0.0006807542,
          0.0007692529,
          0.0008543557,
          0.000939374,
          0.0010216,
          0.001110079,
          0.001192341,
          0.001284354
         ]
        },
        {
         "mode": "markers",
         "name": "Sample: 8_N2",
         "type": "scatter",
         "x": [
          -0.288,
          -0.737,
          -1.203,
          -1.683,
          -2.17,
          -2.67,
          -3.18,
          -3.68,
          -4.18,
          -4.68,
          -5.18,
          -5.68,
          -6.19,
          -6.7,
          -7.2,
          -7.7,
          -8.2,
          -8.69,
          -9.19,
          -9.69,
          -10.19,
          0,
          0.288,
          0.737,
          1.203,
          1.683,
          2.17,
          2.67,
          3.18,
          3.68,
          4.18,
          4.68,
          5.18,
          5.68,
          6.19,
          6.7,
          7.2,
          7.7,
          8.2,
          8.69,
          9.19,
          9.69,
          10.19
         ],
         "y": [
          0.0004586706,
          0.0005352929,
          0.000615982,
          0.0007011807,
          0.0007922098,
          0.0008850572,
          0.0009805651,
          0.001080183,
          0.0011785,
          0.001276972,
          0.001381262,
          0.001469314,
          0.001563599,
          0.00164566,
          0.001740379,
          0.001822565,
          0.001908052,
          0.00199324,
          0.00207293,
          0.002159683,
          0.002242867,
          0.0004039084,
          0.0003572924,
          0.0002834428,
          0.0002076001,
          0.0001297424,
          0.00004864837,
          0.00003128711,
          0.0001108681,
          0.0001898219,
          0.000268138,
          0.0003463345,
          0.0004247375,
          0.0005049072,
          0.0005845887,
          0.0006634924,
          0.0007460267,
          0.0008268901,
          0.000909124,
          0.0009898612,
          0.001072568,
          0.00115892,
          0.001249159
         ]
        },
        {
         "mode": "markers",
         "name": "Sample: 9",
         "type": "scatter",
         "x": [
          -0.288,
          -0.737,
          -1.203,
          -1.683,
          -2.17,
          -2.67,
          -3.18,
          -3.68,
          -4.18,
          -4.68,
          -5.18,
          -5.68,
          -6.19,
          -6.7,
          -7.2,
          -7.7,
          -8.2,
          -8.69,
          -9.19,
          -9.69,
          -10.19,
          0,
          0.288,
          0.737,
          1.203,
          1.683,
          2.17,
          2.67,
          3.18,
          3.68,
          4.18,
          4.68,
          5.18,
          5.68,
          6.19,
          6.7,
          7.2,
          7.7,
          8.2,
          8.69,
          9.19,
          9.69,
          10.19
         ],
         "y": [
          0.0004653411,
          0.0005049056,
          0.0005462719,
          0.00058943,
          0.0006347436,
          0.0006803714,
          0.0007263662,
          0.0007728498,
          0.0008197181,
          0.000889169,
          0.0009383077,
          0.0009865749,
          0.001031592,
          0.001070947,
          0.001117417,
          0.001168169,
          0.001203395,
          0.001245671,
          0.001290424,
          0.001344336,
          0.001383695,
          0.0004382821,
          0.0004131064,
          0.0003752009,
          0.0003363453,
          0.0002962659,
          0.0002541256,
          0.000212112,
          0.000170288,
          0.0001286812,
          0.0000873413,
          0.00004651163,
          0.000005834843,
          0.00003470134,
          0.00007536351,
          0.0001160473,
          0.0001567963,
          0.0001971861,
          0.000235143,
          0.0002738857,
          0.0003163042,
          0.0003555754,
          0.0003890387
         ]
        }
       ],
       "layout": {
        "template": {
         "data": {
          "bar": [
           {
            "error_x": {
             "color": "#2a3f5f"
            },
            "error_y": {
             "color": "#2a3f5f"
            },
            "marker": {
             "line": {
              "color": "#E5ECF6",
              "width": 0.5
             },
             "pattern": {
              "fillmode": "overlay",
              "size": 10,
              "solidity": 0.2
             }
            },
            "type": "bar"
           }
          ],
          "barpolar": [
           {
            "marker": {
             "line": {
              "color": "#E5ECF6",
              "width": 0.5
             },
             "pattern": {
              "fillmode": "overlay",
              "size": 10,
              "solidity": 0.2
             }
            },
            "type": "barpolar"
           }
          ],
          "carpet": [
           {
            "aaxis": {
             "endlinecolor": "#2a3f5f",
             "gridcolor": "white",
             "linecolor": "white",
             "minorgridcolor": "white",
             "startlinecolor": "#2a3f5f"
            },
            "baxis": {
             "endlinecolor": "#2a3f5f",
             "gridcolor": "white",
             "linecolor": "white",
             "minorgridcolor": "white",
             "startlinecolor": "#2a3f5f"
            },
            "type": "carpet"
           }
          ],
          "choropleth": [
           {
            "colorbar": {
             "outlinewidth": 0,
             "ticks": ""
            },
            "type": "choropleth"
           }
          ],
          "contour": [
           {
            "colorbar": {
             "outlinewidth": 0,
             "ticks": ""
            },
            "colorscale": [
             [
              0,
              "#0d0887"
             ],
             [
              0.1111111111111111,
              "#46039f"
             ],
             [
              0.2222222222222222,
              "#7201a8"
             ],
             [
              0.3333333333333333,
              "#9c179e"
             ],
             [
              0.4444444444444444,
              "#bd3786"
             ],
             [
              0.5555555555555556,
              "#d8576b"
             ],
             [
              0.6666666666666666,
              "#ed7953"
             ],
             [
              0.7777777777777778,
              "#fb9f3a"
             ],
             [
              0.8888888888888888,
              "#fdca26"
             ],
             [
              1,
              "#f0f921"
             ]
            ],
            "type": "contour"
           }
          ],
          "contourcarpet": [
           {
            "colorbar": {
             "outlinewidth": 0,
             "ticks": ""
            },
            "type": "contourcarpet"
           }
          ],
          "heatmap": [
           {
            "colorbar": {
             "outlinewidth": 0,
             "ticks": ""
            },
            "colorscale": [
             [
              0,
              "#0d0887"
             ],
             [
              0.1111111111111111,
              "#46039f"
             ],
             [
              0.2222222222222222,
              "#7201a8"
             ],
             [
              0.3333333333333333,
              "#9c179e"
             ],
             [
              0.4444444444444444,
              "#bd3786"
             ],
             [
              0.5555555555555556,
              "#d8576b"
             ],
             [
              0.6666666666666666,
              "#ed7953"
             ],
             [
              0.7777777777777778,
              "#fb9f3a"
             ],
             [
              0.8888888888888888,
              "#fdca26"
             ],
             [
              1,
              "#f0f921"
             ]
            ],
            "type": "heatmap"
           }
          ],
          "heatmapgl": [
           {
            "colorbar": {
             "outlinewidth": 0,
             "ticks": ""
            },
            "colorscale": [
             [
              0,
              "#0d0887"
             ],
             [
              0.1111111111111111,
              "#46039f"
             ],
             [
              0.2222222222222222,
              "#7201a8"
             ],
             [
              0.3333333333333333,
              "#9c179e"
             ],
             [
              0.4444444444444444,
              "#bd3786"
             ],
             [
              0.5555555555555556,
              "#d8576b"
             ],
             [
              0.6666666666666666,
              "#ed7953"
             ],
             [
              0.7777777777777778,
              "#fb9f3a"
             ],
             [
              0.8888888888888888,
              "#fdca26"
             ],
             [
              1,
              "#f0f921"
             ]
            ],
            "type": "heatmapgl"
           }
          ],
          "histogram": [
           {
            "marker": {
             "pattern": {
              "fillmode": "overlay",
              "size": 10,
              "solidity": 0.2
             }
            },
            "type": "histogram"
           }
          ],
          "histogram2d": [
           {
            "colorbar": {
             "outlinewidth": 0,
             "ticks": ""
            },
            "colorscale": [
             [
              0,
              "#0d0887"
             ],
             [
              0.1111111111111111,
              "#46039f"
             ],
             [
              0.2222222222222222,
              "#7201a8"
             ],
             [
              0.3333333333333333,
              "#9c179e"
             ],
             [
              0.4444444444444444,
              "#bd3786"
             ],
             [
              0.5555555555555556,
              "#d8576b"
             ],
             [
              0.6666666666666666,
              "#ed7953"
             ],
             [
              0.7777777777777778,
              "#fb9f3a"
             ],
             [
              0.8888888888888888,
              "#fdca26"
             ],
             [
              1,
              "#f0f921"
             ]
            ],
            "type": "histogram2d"
           }
          ],
          "histogram2dcontour": [
           {
            "colorbar": {
             "outlinewidth": 0,
             "ticks": ""
            },
            "colorscale": [
             [
              0,
              "#0d0887"
             ],
             [
              0.1111111111111111,
              "#46039f"
             ],
             [
              0.2222222222222222,
              "#7201a8"
             ],
             [
              0.3333333333333333,
              "#9c179e"
             ],
             [
              0.4444444444444444,
              "#bd3786"
             ],
             [
              0.5555555555555556,
              "#d8576b"
             ],
             [
              0.6666666666666666,
              "#ed7953"
             ],
             [
              0.7777777777777778,
              "#fb9f3a"
             ],
             [
              0.8888888888888888,
              "#fdca26"
             ],
             [
              1,
              "#f0f921"
             ]
            ],
            "type": "histogram2dcontour"
           }
          ],
          "mesh3d": [
           {
            "colorbar": {
             "outlinewidth": 0,
             "ticks": ""
            },
            "type": "mesh3d"
           }
          ],
          "parcoords": [
           {
            "line": {
             "colorbar": {
              "outlinewidth": 0,
              "ticks": ""
             }
            },
            "type": "parcoords"
           }
          ],
          "pie": [
           {
            "automargin": true,
            "type": "pie"
           }
          ],
          "scatter": [
           {
            "fillpattern": {
             "fillmode": "overlay",
             "size": 10,
             "solidity": 0.2
            },
            "type": "scatter"
           }
          ],
          "scatter3d": [
           {
            "line": {
             "colorbar": {
              "outlinewidth": 0,
              "ticks": ""
             }
            },
            "marker": {
             "colorbar": {
              "outlinewidth": 0,
              "ticks": ""
             }
            },
            "type": "scatter3d"
           }
          ],
          "scattercarpet": [
           {
            "marker": {
             "colorbar": {
              "outlinewidth": 0,
              "ticks": ""
             }
            },
            "type": "scattercarpet"
           }
          ],
          "scattergeo": [
           {
            "marker": {
             "colorbar": {
              "outlinewidth": 0,
              "ticks": ""
             }
            },
            "type": "scattergeo"
           }
          ],
          "scattergl": [
           {
            "marker": {
             "colorbar": {
              "outlinewidth": 0,
              "ticks": ""
             }
            },
            "type": "scattergl"
           }
          ],
          "scattermapbox": [
           {
            "marker": {
             "colorbar": {
              "outlinewidth": 0,
              "ticks": ""
             }
            },
            "type": "scattermapbox"
           }
          ],
          "scatterpolar": [
           {
            "marker": {
             "colorbar": {
              "outlinewidth": 0,
              "ticks": ""
             }
            },
            "type": "scatterpolar"
           }
          ],
          "scatterpolargl": [
           {
            "marker": {
             "colorbar": {
              "outlinewidth": 0,
              "ticks": ""
             }
            },
            "type": "scatterpolargl"
           }
          ],
          "scatterternary": [
           {
            "marker": {
             "colorbar": {
              "outlinewidth": 0,
              "ticks": ""
             }
            },
            "type": "scatterternary"
           }
          ],
          "surface": [
           {
            "colorbar": {
             "outlinewidth": 0,
             "ticks": ""
            },
            "colorscale": [
             [
              0,
              "#0d0887"
             ],
             [
              0.1111111111111111,
              "#46039f"
             ],
             [
              0.2222222222222222,
              "#7201a8"
             ],
             [
              0.3333333333333333,
              "#9c179e"
             ],
             [
              0.4444444444444444,
              "#bd3786"
             ],
             [
              0.5555555555555556,
              "#d8576b"
             ],
             [
              0.6666666666666666,
              "#ed7953"
             ],
             [
              0.7777777777777778,
              "#fb9f3a"
             ],
             [
              0.8888888888888888,
              "#fdca26"
             ],
             [
              1,
              "#f0f921"
             ]
            ],
            "type": "surface"
           }
          ],
          "table": [
           {
            "cells": {
             "fill": {
              "color": "#EBF0F8"
             },
             "line": {
              "color": "white"
             }
            },
            "header": {
             "fill": {
              "color": "#C8D4E3"
             },
             "line": {
              "color": "white"
             }
            },
            "type": "table"
           }
          ]
         },
         "layout": {
          "annotationdefaults": {
           "arrowcolor": "#2a3f5f",
           "arrowhead": 0,
           "arrowwidth": 1
          },
          "autotypenumbers": "strict",
          "coloraxis": {
           "colorbar": {
            "outlinewidth": 0,
            "ticks": ""
           }
          },
          "colorscale": {
           "diverging": [
            [
             0,
             "#8e0152"
            ],
            [
             0.1,
             "#c51b7d"
            ],
            [
             0.2,
             "#de77ae"
            ],
            [
             0.3,
             "#f1b6da"
            ],
            [
             0.4,
             "#fde0ef"
            ],
            [
             0.5,
             "#f7f7f7"
            ],
            [
             0.6,
             "#e6f5d0"
            ],
            [
             0.7,
             "#b8e186"
            ],
            [
             0.8,
             "#7fbc41"
            ],
            [
             0.9,
             "#4d9221"
            ],
            [
             1,
             "#276419"
            ]
           ],
           "sequential": [
            [
             0,
             "#0d0887"
            ],
            [
             0.1111111111111111,
             "#46039f"
            ],
            [
             0.2222222222222222,
             "#7201a8"
            ],
            [
             0.3333333333333333,
             "#9c179e"
            ],
            [
             0.4444444444444444,
             "#bd3786"
            ],
            [
             0.5555555555555556,
             "#d8576b"
            ],
            [
             0.6666666666666666,
             "#ed7953"
            ],
            [
             0.7777777777777778,
             "#fb9f3a"
            ],
            [
             0.8888888888888888,
             "#fdca26"
            ],
            [
             1,
             "#f0f921"
            ]
           ],
           "sequentialminus": [
            [
             0,
             "#0d0887"
            ],
            [
             0.1111111111111111,
             "#46039f"
            ],
            [
             0.2222222222222222,
             "#7201a8"
            ],
            [
             0.3333333333333333,
             "#9c179e"
            ],
            [
             0.4444444444444444,
             "#bd3786"
            ],
            [
             0.5555555555555556,
             "#d8576b"
            ],
            [
             0.6666666666666666,
             "#ed7953"
            ],
            [
             0.7777777777777778,
             "#fb9f3a"
            ],
            [
             0.8888888888888888,
             "#fdca26"
            ],
            [
             1,
             "#f0f921"
            ]
           ]
          },
          "colorway": [
           "#636efa",
           "#EF553B",
           "#00cc96",
           "#ab63fa",
           "#FFA15A",
           "#19d3f3",
           "#FF6692",
           "#B6E880",
           "#FF97FF",
           "#FECB52"
          ],
          "font": {
           "color": "#2a3f5f"
          },
          "geo": {
           "bgcolor": "white",
           "lakecolor": "white",
           "landcolor": "#E5ECF6",
           "showlakes": true,
           "showland": true,
           "subunitcolor": "white"
          },
          "hoverlabel": {
           "align": "left"
          },
          "hovermode": "closest",
          "mapbox": {
           "style": "light"
          },
          "paper_bgcolor": "white",
          "plot_bgcolor": "#E5ECF6",
          "polar": {
           "angularaxis": {
            "gridcolor": "white",
            "linecolor": "white",
            "ticks": ""
           },
           "bgcolor": "#E5ECF6",
           "radialaxis": {
            "gridcolor": "white",
            "linecolor": "white",
            "ticks": ""
           }
          },
          "scene": {
           "xaxis": {
            "backgroundcolor": "#E5ECF6",
            "gridcolor": "white",
            "gridwidth": 2,
            "linecolor": "white",
            "showbackground": true,
            "ticks": "",
            "zerolinecolor": "white"
           },
           "yaxis": {
            "backgroundcolor": "#E5ECF6",
            "gridcolor": "white",
            "gridwidth": 2,
            "linecolor": "white",
            "showbackground": true,
            "ticks": "",
            "zerolinecolor": "white"
           },
           "zaxis": {
            "backgroundcolor": "#E5ECF6",
            "gridcolor": "white",
            "gridwidth": 2,
            "linecolor": "white",
            "showbackground": true,
            "ticks": "",
            "zerolinecolor": "white"
           }
          },
          "shapedefaults": {
           "line": {
            "color": "#2a3f5f"
           }
          },
          "ternary": {
           "aaxis": {
            "gridcolor": "white",
            "linecolor": "white",
            "ticks": ""
           },
           "baxis": {
            "gridcolor": "white",
            "linecolor": "white",
            "ticks": ""
           },
           "bgcolor": "#E5ECF6",
           "caxis": {
            "gridcolor": "white",
            "linecolor": "white",
            "ticks": ""
           }
          },
          "title": {
           "x": 0.05
          },
          "xaxis": {
           "automargin": true,
           "gridcolor": "white",
           "linecolor": "white",
           "ticks": "",
           "title": {
            "standoff": 15
           },
           "zerolinecolor": "white",
           "zerolinewidth": 2
          },
          "yaxis": {
           "automargin": true,
           "gridcolor": "white",
           "linecolor": "white",
           "ticks": "",
           "title": {
            "standoff": 15
           },
           "zerolinecolor": "white",
           "zerolinewidth": 2
          }
         }
        }
       }
      }
     },
     "metadata": {},
     "output_type": "display_data"
    }
   ],
   "source": []
  },
  {
   "cell_type": "code",
   "execution_count": null,
   "metadata": {},
   "outputs": [],
   "source": []
  }
 ],
 "metadata": {
  "kernelspec": {
   "display_name": "Python 3.9.13 ('Transistor_Testing')",
   "language": "python",
   "name": "python3"
  },
  "language_info": {
   "codemirror_mode": {
    "name": "ipython",
    "version": 3
   },
   "file_extension": ".py",
   "mimetype": "text/x-python",
   "name": "python",
   "nbconvert_exporter": "python",
   "pygments_lexer": "ipython3",
   "version": "3.9.13"
  },
  "orig_nbformat": 4,
  "vscode": {
   "interpreter": {
    "hash": "da61feee1dc311a070590358026ad4f552699105e794d01137959efdf578a8aa"
   }
  }
 },
 "nbformat": 4,
 "nbformat_minor": 2
}
